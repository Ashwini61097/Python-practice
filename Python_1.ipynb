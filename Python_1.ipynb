{
 "cells": [
  {
   "cell_type": "code",
   "execution_count": 1,
   "id": "2bcdf257",
   "metadata": {},
   "outputs": [
    {
     "name": "stdout",
     "output_type": "stream",
     "text": [
      "3\n",
      "krish 67 68 69\n",
      "arjun 70 98 63\n",
      "malika 52 56 60\n",
      "malika\n",
      "56.00\n"
     ]
    }
   ],
   "source": [
    "'''\n",
    "The provided code stub will read in a dictionary containing key/value pairs of name:[marks] for a list of students.\n",
    "Print the average of the marks array for the student name provided, showing 2 places after the decimal.\n",
    "\n",
    "\n",
    "Input Format\n",
    "\n",
    "The first line contains the integer, the number of students' records. \n",
    "The next lines contain the names and marks obtained by a student, each value separated by a space. \n",
    "The final line contains query_name, the name of a student to query.\n",
    "\n",
    "Constraints\n",
    "\n",
    "Output Format\n",
    "\n",
    "Print one line: The average of the marks obtained by the particular student correct to 2 decimal places.\n",
    "\n",
    "\n",
    "'''\n",
    "if __name__ == '__main__':\n",
    "    n = int(input())\n",
    "    student_marks = {}\n",
    "    for _ in range(n):\n",
    "        name, *line = input().split()\n",
    "        scores = list(map(float, line))\n",
    "        student_marks[name] = scores\n",
    "    query_name = input()\n",
    "    x = student_marks[query_name]\n",
    "    y = sum(x)/3\n",
    "    print('%.2f' % y)\n"
   ]
  },
  {
   "cell_type": "code",
   "execution_count": null,
   "id": "d942d6f5",
   "metadata": {},
   "outputs": [],
   "source": []
  }
 ],
 "metadata": {
  "kernelspec": {
   "display_name": "Python 3 (ipykernel)",
   "language": "python",
   "name": "python3"
  },
  "language_info": {
   "codemirror_mode": {
    "name": "ipython",
    "version": 3
   },
   "file_extension": ".py",
   "mimetype": "text/x-python",
   "name": "python",
   "nbconvert_exporter": "python",
   "pygments_lexer": "ipython3",
   "version": "3.9.12"
  }
 },
 "nbformat": 4,
 "nbformat_minor": 5
}
